{
 "cells": [
  {
   "cell_type": "markdown",
   "metadata": {},
   "source": [
    "# Implementation of various ML regression classes:\n",
    "\n",
    "## - Penalised Least Squares\n",
    "\n",
    "## - K Nearest Neighbours Regression\n",
    "\n",
    "## - Regression Forest\n",
    "\n",
    "## - Gaussian Process Regression"
   ]
  },
  {
   "cell_type": "code",
   "execution_count": 1,
   "metadata": {},
   "outputs": [],
   "source": [
    "import numpy as np\n",
    "import random\n",
    "import pandas as pd\n",
    "import os\n",
    "import gc\n",
    "import tensorflow.compat.v1 as tf\n",
    "from matplotlib              import pyplot as plt\n",
    "from tqdm.notebook           import tqdm\n",
    "from pathos.multiprocessing  import Pool\n",
    "from scipy.spatial.distance  import cdist\n",
    "from scipy.spatial           import cKDTree\n",
    "from numpy.linalg            import inv\n",
    "from scipy.linalg            import cho_solve\n",
    "\n",
    "tf.disable_eager_execution()"
   ]
  },
  {
   "cell_type": "code",
   "execution_count": 2,
   "metadata": {},
   "outputs": [],
   "source": [
    "import sys\n",
    "sys.path.append('../')"
   ]
  },
  {
   "cell_type": "code",
   "execution_count": 3,
   "metadata": {},
   "outputs": [],
   "source": [
    "from ML_implementations.regression import *"
   ]
  },
  {
   "cell_type": "markdown",
   "metadata": {},
   "source": [
    "We will work with the Heating Load dataset:"
   ]
  },
  {
   "cell_type": "code",
   "execution_count": 4,
   "metadata": {},
   "outputs": [],
   "source": [
    "with open(\"ee-train.csv\", \"rb\") as csvfile:\n",
    "    train = pd.read_csv(\"ee-train.csv\",low_memory=False) \n",
    "with open(\"ee-test.csv\", \"rb\") as csvfile:\n",
    "    test = pd.read_csv(\"ee-test.csv\",low_memory=False) \n",
    "train_means = np.mean(train, axis = 0)\n",
    "train_std   = np.std(train,axis = 0)\n",
    "train_norm = (train - train_means)/train_std\n",
    "train_norm.loc[:,'Heating Load'] = train.loc[:,'Heating Load']\n",
    "# train_norm.insert(0,'Constant',1)\n",
    "n_features = train_norm.shape[1]\n",
    "test_norm = (test - train_means)/train_std\n",
    "test_norm.loc[:,'Heating Load'] = test.loc[:,'Heating Load']\n",
    "# test_norm.insert(0,'Constant',1)\n",
    "x_train = train_norm.iloc[:,:n_features-1].values\n",
    "y_train = train_norm.iloc[:,n_features-1].values\n",
    "x_test  = test_norm.iloc[:,:n_features-1].values\n",
    "y_test  = test_norm.iloc[:,n_features-1].values\n",
    "y_test = y_test.reshape(-1,1)"
   ]
  },
  {
   "cell_type": "markdown",
   "metadata": {},
   "source": [
    "### Penalised Least Squares"
   ]
  },
  {
   "cell_type": "markdown",
   "metadata": {},
   "source": [
    "Generic PLS, a more involved implementation can be found in the sampling notebook."
   ]
  },
  {
   "cell_type": "code",
   "execution_count": 5,
   "metadata": {},
   "outputs": [],
   "source": [
    "regression_error = Regression(intercept = True).fit(x_train,y_train, 0.01).rmse(x_test, y_test)"
   ]
  },
  {
   "cell_type": "code",
   "execution_count": 6,
   "metadata": {},
   "outputs": [
    {
     "name": "stdout",
     "output_type": "stream",
     "text": [
      "PLS RMSE: 2.8435523716042383\n"
     ]
    }
   ],
   "source": [
    "print('PLS RMSE:', regression_error)"
   ]
  },
  {
   "cell_type": "markdown",
   "metadata": {},
   "source": [
    "### KNN Regression"
   ]
  },
  {
   "cell_type": "code",
   "execution_count": 7,
   "metadata": {},
   "outputs": [],
   "source": [
    "KNN_error = K_Neighbours_Regressor(k = 10, p=2, weight = 'distance').fit(x_train, y_train).rmse(x_test,y_test)"
   ]
  },
  {
   "cell_type": "code",
   "execution_count": 8,
   "metadata": {},
   "outputs": [
    {
     "data": {
      "text/plain": [
       "2.388251366284861"
      ]
     },
     "execution_count": 8,
     "metadata": {},
     "output_type": "execute_result"
    }
   ],
   "source": [
    "KNN_error"
   ]
  },
  {
   "cell_type": "markdown",
   "metadata": {},
   "source": [
    "### Regression Forest"
   ]
  },
  {
   "cell_type": "code",
   "execution_count": 9,
   "metadata": {},
   "outputs": [],
   "source": [
    "with open(\"ee-train.csv\", \"rb\") as csvfile:\n",
    "    train = pd.read_csv(\"ee-train.csv\",low_memory=False) \n",
    "with open(\"ee-test.csv\", \"rb\") as csvfile:\n",
    "    test = pd.read_csv(\"ee-test.csv\",low_memory=False) \n",
    "train_means = np.mean(train, axis = 0)\n",
    "train_std   = np.std(train,axis = 0)\n",
    "train_norm = (train - train_means)/train_std\n",
    "train_norm.loc[:,'Heating Load'] = train.loc[:,'Heating Load']\n",
    "# train_norm.insert(0,'Constant',1)\n",
    "n_features = train_norm.shape[1]\n",
    "test_norm = (test - train_means)/train_std\n",
    "test_norm.loc[:,'Heating Load'] = test.loc[:,'Heating Load']\n",
    "# test_norm.insert(0,'Constant',1)\n",
    "x_train = train_norm.iloc[:,:n_features-1].values\n",
    "y_train = train_norm.iloc[:,n_features-1].values\n",
    "x_test  = test_norm.iloc[:,:n_features-1].values\n",
    "y_test  = test_norm.iloc[:,n_features-1].values\n",
    "y_test = y_test.reshape(-1,1)"
   ]
  },
  {
   "cell_type": "code",
   "execution_count": 10,
   "metadata": {},
   "outputs": [],
   "source": [
    "RF_error = Random_Forest(n_trees = 160, max_depth = 30, min_node_count = 3, bag_ratio=1, \n",
    "                         feature_ratio=0.8, bins = 200, step = 2,\n",
    "                         weight = 'OOB', \n",
    "                         threads = 16).fit(x_train, y_train).rmse(x_test,y_test)"
   ]
  },
  {
   "cell_type": "code",
   "execution_count": 11,
   "metadata": {},
   "outputs": [
    {
     "data": {
      "text/plain": [
       "1.6445340492313083"
      ]
     },
     "execution_count": 11,
     "metadata": {},
     "output_type": "execute_result"
    }
   ],
   "source": [
    "RF_error"
   ]
  },
  {
   "cell_type": "markdown",
   "metadata": {},
   "source": [
    "### Gaussian Process - Numpy"
   ]
  },
  {
   "cell_type": "code",
   "execution_count": 12,
   "metadata": {},
   "outputs": [],
   "source": [
    "with open(\"ee-train.csv\", \"rb\") as csvfile:\n",
    "    train = pd.read_csv(\"ee-train.csv\",low_memory=False) \n",
    "with open(\"ee-test.csv\", \"rb\") as csvfile:\n",
    "    test = pd.read_csv(\"ee-test.csv\",low_memory=False) \n",
    "train_means = np.mean(train, axis = 0)\n",
    "train_std   = np.std(train,axis = 0)\n",
    "train_norm = (train - train_means)/train_std\n",
    "train_norm.loc[:,'Heating Load'] = train.loc[:,'Heating Load']\n",
    "# train_norm.insert(0,'Constant',1)\n",
    "n_features = train_norm.shape[1]\n",
    "test_norm = (test - train_means)/train_std\n",
    "test_norm.loc[:,'Heating Load'] = test.loc[:,'Heating Load']\n",
    "# test_norm.insert(0,'Constant',1)\n",
    "x_train = train_norm.iloc[:,:n_features-1].values\n",
    "y_train = train_norm.iloc[:,n_features-1].values\n",
    "x_test  = test_norm.iloc[:,:n_features-1].values\n",
    "y_test  = test_norm.iloc[:,n_features-1].values\n",
    "y_train = y_train.reshape(-1,1)\n",
    "y_test  = y_test.reshape(-1,1)"
   ]
  },
  {
   "cell_type": "code",
   "execution_count": 13,
   "metadata": {},
   "outputs": [
    {
     "data": {
      "application/vnd.jupyter.widget-view+json": {
       "model_id": "",
       "version_major": 2,
       "version_minor": 0
      },
      "text/plain": [
       "HBox(children=(FloatProgress(value=0.0), HTML(value='')))"
      ]
     },
     "metadata": {},
     "output_type": "display_data"
    }
   ],
   "source": [
    "GP_error = Gaussian_Process().fit(x_train, y_train, alpha = 0.9, epochs = 100, momentum = 0.4, prior_c = 1).rmse(x_test,y_test)"
   ]
  },
  {
   "cell_type": "code",
   "execution_count": 14,
   "metadata": {},
   "outputs": [
    {
     "data": {
      "text/plain": [
       "0.645451981697637"
      ]
     },
     "execution_count": 14,
     "metadata": {},
     "output_type": "execute_result"
    }
   ],
   "source": [
    "GP_error"
   ]
  },
  {
   "cell_type": "markdown",
   "metadata": {},
   "source": [
    "### Gaussian Process - Tensorflow"
   ]
  },
  {
   "cell_type": "code",
   "execution_count": 15,
   "metadata": {},
   "outputs": [],
   "source": [
    "gp = tfGP(variable_l = True)"
   ]
  },
  {
   "cell_type": "code",
   "execution_count": 16,
   "metadata": {},
   "outputs": [
    {
     "name": "stdout",
     "output_type": "stream",
     "text": [
      "WARNING:tensorflow:From /Users/alexnorris/python/lib/python3.8/site-packages/tensorflow/python/ops/resource_variable_ops.py:1659: calling BaseResourceVariable.__init__ (from tensorflow.python.ops.resource_variable_ops) with constraint is deprecated and will be removed in a future version.\n",
      "Instructions for updating:\n",
      "If using Keras pass *_constraint arguments to layers.\n"
     ]
    },
    {
     "data": {
      "application/vnd.jupyter.widget-view+json": {
       "model_id": "",
       "version_major": 2,
       "version_minor": 0
      },
      "text/plain": [
       "HBox(children=(FloatProgress(value=0.0, max=2000.0), HTML(value='')))"
      ]
     },
     "metadata": {},
     "output_type": "display_data"
    },
    {
     "name": "stdout",
     "output_type": "stream",
     "text": [
      "  opt iter     0: objective = 1419.9030516529642\n",
      "  opt iter   200: objective = 264.10011235455283\n",
      "  opt iter   400: objective = 92.37950501095204\n",
      "  opt iter   600: objective = 55.71067397509729\n",
      "  opt iter   800: objective = 34.46311454839803\n",
      "  opt iter  1000: objective = 23.198379732614075\n",
      "  opt iter  1200: objective = 16.8541893325557\n",
      "  opt iter  1400: objective = 13.235618694157104\n",
      "  opt iter  1600: objective = 11.223911401499564\n",
      "  opt iter  1800: objective = 10.129902796455344\n",
      "Noise Variance: 0.02419063503910851\n",
      "Signal Variance: 19.831821770378685\n",
      "Lengthscale: [ 2.33440356  3.77649718  0.98039842  3.30398894  2.59707607 66.05116942\n",
      "  2.19121134 44.64825631]\n"
     ]
    },
    {
     "data": {
      "text/plain": [
       "<ML_implementations.regression.regression.tfGP at 0x7fa9c071d5b0>"
      ]
     },
     "execution_count": 16,
     "metadata": {},
     "output_type": "execute_result"
    }
   ],
   "source": [
    "gp.fit(x_train, y_train, [1,1,1])"
   ]
  },
  {
   "cell_type": "code",
   "execution_count": 17,
   "metadata": {},
   "outputs": [],
   "source": [
    "mu, var = gp.predict(x_test)"
   ]
  },
  {
   "cell_type": "code",
   "execution_count": 18,
   "metadata": {},
   "outputs": [
    {
     "data": {
      "text/plain": [
       "0.4640013406404691"
      ]
     },
     "execution_count": 18,
     "metadata": {},
     "output_type": "execute_result"
    }
   ],
   "source": [
    "np.sqrt(np.mean(np.square(mu - y_test)))"
   ]
  },
  {
   "cell_type": "code",
   "execution_count": 20,
   "metadata": {},
   "outputs": [],
   "source": [
    "gp.sess.close()"
   ]
  }
 ],
 "metadata": {
  "kernelspec": {
   "display_name": "Python 3",
   "language": "python",
   "name": "python3"
  },
  "language_info": {
   "codemirror_mode": {
    "name": "ipython",
    "version": 3
   },
   "file_extension": ".py",
   "mimetype": "text/x-python",
   "name": "python",
   "nbconvert_exporter": "python",
   "pygments_lexer": "ipython3",
   "version": "3.8.1"
  }
 },
 "nbformat": 4,
 "nbformat_minor": 4
}
